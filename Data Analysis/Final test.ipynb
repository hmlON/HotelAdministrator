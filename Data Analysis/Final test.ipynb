{
 "cells": [
  {
   "cell_type": "markdown",
   "metadata": {},
   "source": [
    "# Data import"
   ]
  },
  {
   "cell_type": "code",
   "execution_count": 170,
   "metadata": {},
   "outputs": [
    {
     "data": {
      "text/plain": [
       "count    65536.000000\n",
       "mean       180.210178\n",
       "std        104.230655\n",
       "min        -12.540000\n",
       "25%         90.980000\n",
       "50%        180.500000\n",
       "75%        270.400000\n",
       "max        368.300000\n",
       "dtype: float64"
      ]
     },
     "execution_count": 170,
     "metadata": {},
     "output_type": "execute_result"
    }
   ],
   "source": [
    "import pandas as pd\n",
    "\n",
    "file = open('ff7.txt', 'r')\n",
    "lines = file.readlines()\n",
    "input_data = pd.Series(lines).apply(float)\n",
    "input_data.describe()"
   ]
  },
  {
   "cell_type": "markdown",
   "metadata": {},
   "source": [
    "# 1. Pre-analysis"
   ]
  },
  {
   "cell_type": "markdown",
   "metadata": {},
   "source": [
    "## Graph"
   ]
  },
  {
   "cell_type": "code",
   "execution_count": 171,
   "metadata": {},
   "outputs": [
    {
     "data": {
      "image/png": "[encoded data removed]",
      "text/plain": [
       "<Figure size 432x288 with 1 Axes>"
      ]
     },
     "metadata": {},
     "output_type": "display_data"
    }
   ],
   "source": [
    "import matplotlib.pyplot as plt\n",
    "import numpy as np\n",
    "\n",
    "indexes = np.arange(1,len(input_data)+1)\n",
    "plt.plot(indexes, input_data)\n",
    "plt.show()"
   ]
  },
  {
   "cell_type": "markdown",
   "metadata": {},
   "source": [
    "## Mean"
   ]
  },
  {
   "cell_type": "code",
   "execution_count": 172,
   "metadata": {},
   "outputs": [
    {
     "data": {
      "text/plain": [
       "180.21017765037539"
      ]
     },
     "execution_count": 172,
     "metadata": {},
     "output_type": "execute_result"
    }
   ],
   "source": [
    "mean = input_data.mean()\n",
    "mean"
   ]
  },
  {
   "cell_type": "markdown",
   "metadata": {},
   "source": [
    "## Variance"
   ]
  },
  {
   "cell_type": "code",
   "execution_count": 173,
   "metadata": {},
   "outputs": [
    {
     "data": {
      "text/plain": [
       "10863.863657372265"
      ]
     },
     "execution_count": 173,
     "metadata": {},
     "output_type": "execute_result"
    }
   ],
   "source": [
    "variance = np.var(input_data)\n",
    "variance"
   ]
  },
  {
   "cell_type": "markdown",
   "metadata": {},
   "source": [
    "## Histogram"
   ]
  },
  {
   "cell_type": "code",
   "execution_count": 174,
   "metadata": {},
   "outputs": [
    {
     "data": {
      "image/png": "[encoded data removed]",
      "text/plain": [
       "<Figure size 432x288 with 1 Axes>"
      ]
     },
     "metadata": {},
     "output_type": "display_data"
    }
   ],
   "source": [
    "plt.hist(input_data)\n",
    "plt.show()"
   ]
  },
  {
   "cell_type": "markdown",
   "metadata": {},
   "source": [
    "## Data normalization"
   ]
  },
  {
   "cell_type": "code",
   "execution_count": 183,
   "metadata": {},
   "outputs": [
    {
     "data": {
      "text/plain": [
       "0       -0.017114\n",
       "1       -0.017172\n",
       "2       -0.017177\n",
       "3       -0.016965\n",
       "4       -0.016636\n",
       "5       -0.016717\n",
       "6       -0.016690\n",
       "7       -0.016805\n",
       "8       -0.016931\n",
       "9       -0.017040\n",
       "10      -0.017201\n",
       "11      -0.017130\n",
       "12      -0.016526\n",
       "13      -0.016374\n",
       "14      -0.016334\n",
       "15      -0.015895\n",
       "16      -0.016915\n",
       "17      -0.016626\n",
       "18      -0.016726\n",
       "19      -0.016759\n",
       "20      -0.017124\n",
       "21      -0.016523\n",
       "22      -0.016717\n",
       "23      -0.017346\n",
       "24      -0.016298\n",
       "25      -0.016477\n",
       "26      -0.016649\n",
       "27      -0.016120\n",
       "28      -0.016320\n",
       "29      -0.017122\n",
       "           ...   \n",
       "65506    0.016614\n",
       "65507    0.016890\n",
       "65508    0.016559\n",
       "65509    0.016825\n",
       "65510    0.016798\n",
       "65511    0.016549\n",
       "65512    0.016678\n",
       "65513    0.016172\n",
       "65514    0.016025\n",
       "65515    0.016154\n",
       "65516    0.016034\n",
       "65517    0.016540\n",
       "65518    0.016825\n",
       "65519    0.016467\n",
       "65520    0.016844\n",
       "65521    0.016660\n",
       "65522    0.016172\n",
       "65523    0.016706\n",
       "65524    0.016282\n",
       "65525    0.016218\n",
       "65526    0.016319\n",
       "65527    0.016531\n",
       "65528    0.016844\n",
       "65529    0.016927\n",
       "65530    0.016724\n",
       "65531    0.016476\n",
       "65532    0.016098\n",
       "65533    0.016430\n",
       "65534    0.016605\n",
       "65535    0.016089\n",
       "Length: 65536, dtype: float64"
      ]
     },
     "execution_count": 183,
     "metadata": {},
     "output_type": "execute_result"
    }
   ],
   "source": [
    "data = input_data.apply(lambda x: (x-mean)/variance)\n",
    "data"
   ]
  },
  {
   "cell_type": "markdown",
   "metadata": {},
   "source": [
    "## Correlation function"
   ]
  },
  {
   "cell_type": "code",
   "execution_count": 176,
   "metadata": {},
   "outputs": [
    {
     "data": {
      "image/png": "[encoded data removed]",
      "text/plain": [
       "<Figure size 432x288 with 1 Axes>"
      ]
     },
     "metadata": {},
     "output_type": "display_data"
    }
   ],
   "source": [
    "plt.acorr(data)\n",
    "plt.show()"
   ]
  },
  {
   "cell_type": "markdown",
   "metadata": {},
   "source": [
    "## Conclusion\n",
    "Graph: Looks like a line (linear correlation)  \n",
    "Histogram: data is equally distributed  \n",
    "Correlation function: ..."
   ]
  },
  {
   "cell_type": "markdown",
   "metadata": {},
   "source": [
    "# 2. Analysis of variance"
   ]
  },
  {
   "cell_type": "code",
   "execution_count": null,
   "metadata": {},
   "outputs": [],
   "source": []
  },
  {
   "cell_type": "markdown",
   "metadata": {},
   "source": [
    "# 3. Regression analysis"
   ]
  },
  {
   "cell_type": "markdown",
   "metadata": {},
   "source": [
    "## Polynomial trend"
   ]
  },
  {
   "cell_type": "code",
   "execution_count": 177,
   "metadata": {},
   "outputs": [
    {
     "data": {
      "text/plain": [
       "array([ 7.63625543e-15,  5.05783508e-07, -1.65846996e-02])"
      ]
     },
     "execution_count": 177,
     "metadata": {},
     "output_type": "execute_result"
    }
   ],
   "source": [
    "xs = pd.Series(indexes)\n",
    "ys = data\n",
    "\n",
    "trend = np.polyfit(xs, ys, 1)\n",
    "\n",
    "def linear_trend_f(x):\n",
    "    return(trend[1] + trend[0]*x)\n",
    "\n",
    "y = xs.apply(linear_trend_f) \n",
    "\n",
    "trend = np.polyfit(xs, ys, 2)\n",
    "\n",
    "def quadratic_trend_f(x):\n",
    "    return(trend[2] + trend[1]*x + trend[0]*x**2)\n",
    "\n",
    "trend"
   ]
  },
  {
   "cell_type": "code",
   "execution_count": 184,
   "metadata": {},
   "outputs": [
    {
     "name": "stdout",
     "output_type": "stream",
     "text": [
      "[-2.99318024e-06  1.00003571e+00  1.45778180e-06  1.00002048e+00]\n"
     ]
    },
    {
     "data": {
      "image/png": "[encoded data removed]",
      "text/plain": [
       "<Figure size 432x288 with 1 Axes>"
      ]
     },
     "metadata": {},
     "output_type": "display_data"
    }
   ],
   "source": [
    "from scipy import optimize\n",
    "\n",
    "def sin_cos_func(x, a, b, c, d):\n",
    "    return a * np.sin(b*x) + c * np.cos(d*x)\n",
    "\n",
    "params, params_covariance = optimize.curve_fit(sin_cos_func, xs, ys)\n",
    "\n",
    "print(params)\n",
    "# y = xs.apply(lambda x: sin_cos_func(x, params[0], params[1], params[2], params[3])) \n",
    "# y = xs.apply(linear_trend_f) \n",
    "y = xs.apply(quadratic_trend_f) \n",
    "\n",
    "plt.plot(xs, ys)\n",
    "plt.plot(xs, y)\n",
    "plt.show()"
   ]
  },
  {
   "cell_type": "markdown",
   "metadata": {},
   "source": [
    "## Graph"
   ]
  },
  {
   "cell_type": "code",
   "execution_count": 179,
   "metadata": {},
   "outputs": [
    {
     "data": {
      "image/png": "[encoded data removed]",
      "text/plain": [
       "<Figure size 432x288 with 1 Axes>"
      ]
     },
     "metadata": {},
     "output_type": "display_data"
    }
   ],
   "source": [
    "plt.plot(xs, ys)\n",
    "plt.plot(xs, y)\n",
    "plt.show()"
   ]
  },
  {
   "cell_type": "markdown",
   "metadata": {},
   "source": [
    "## Model adequacy"
   ]
  },
  {
   "cell_type": "markdown",
   "metadata": {},
   "source": [
    "### Error"
   ]
  },
  {
   "cell_type": "code",
   "execution_count": 180,
   "metadata": {},
   "outputs": [
    {
     "data": {
      "text/plain": [
       "6.032476131774141"
      ]
     },
     "execution_count": 180,
     "metadata": {},
     "output_type": "execute_result"
    }
   ],
   "source": [
    "error = sum(xs.apply(lambda x: (linear_trend_f(x) - ys[x-1])**2))\n",
    "error"
   ]
  },
  {
   "cell_type": "markdown",
   "metadata": {},
   "source": [
    "### S"
   ]
  },
  {
   "cell_type": "code",
   "execution_count": 181,
   "metadata": {},
   "outputs": [
    {
     "data": {
      "text/plain": [
       "3.5397067972884505e-12"
      ]
     },
     "execution_count": 181,
     "metadata": {},
     "output_type": "execute_result"
    }
   ],
   "source": [
    "S = (((y - y.mean())**2).sum()) / (len(y)-1)\n",
    "S"
   ]
  },
  {
   "cell_type": "code",
   "execution_count": 182,
   "metadata": {},
   "outputs": [
    {
     "name": "stdout",
     "output_type": "stream",
     "text": [
      "Model is adequate\n"
     ]
    }
   ],
   "source": [
    "F = 1\n",
    "if S / error <= F:\n",
    "    print('Model is adequate')\n",
    "else:\n",
    "    print('Model is not adequate')"
   ]
  },
  {
   "cell_type": "code",
   "execution_count": null,
   "metadata": {},
   "outputs": [],
   "source": []
  }
 ],
 "metadata": {
  "kernelspec": {
   "display_name": "Python 3",
   "language": "python",
   "name": "python3"
  },
  "language_info": {
   "codemirror_mode": {
    "name": "ipython",
    "version": 3
   },
   "file_extension": ".py",
   "mimetype": "text/x-python",
   "name": "python",
   "nbconvert_exporter": "python",
   "pygments_lexer": "ipython3",
   "version": "3.6.5"
  }
 },
 "nbformat": 4,
 "nbformat_minor": 2
}
