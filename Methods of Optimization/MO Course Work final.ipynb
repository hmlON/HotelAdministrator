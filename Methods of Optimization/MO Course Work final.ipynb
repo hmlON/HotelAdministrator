{
 "cells": [
  {
   "cell_type": "code",
   "execution_count": 137,
   "metadata": {},
   "outputs": [],
   "source": [
    "import numpy as np\n",
    "from numpy.linalg import norm"
   ]
  },
  {
   "cell_type": "markdown",
   "metadata": {},
   "source": [
    "# Input"
   ]
  },
  {
   "cell_type": "code",
   "execution_count": 138,
   "metadata": {},
   "outputs": [],
   "source": [
    "# Power function\n",
    "def f(x):\n",
    "    global counter\n",
    "    counter += 1\n",
    "    return((x[0]-1)**2 + (x[1]-1)**2)\n",
    "\n",
    "# Rosenbrock function\n",
    "# def f(x):\n",
    "#     return((1-x[0])**2 + 100*(x[1]-x[0]**2)**2)\n",
    "\n",
    "x0 = np.array([-1.2, 0])\n",
    "\n",
    "h = 10**-2\n",
    "# h = 10**-3\n",
    "# h = 10**-5\n",
    "\n",
    "eps = 10**-5"
   ]
  },
  {
   "cell_type": "markdown",
   "metadata": {},
   "source": [
    "# Derivatives"
   ]
  },
  {
   "cell_type": "code",
   "execution_count": 145,
   "metadata": {},
   "outputs": [],
   "source": [
    "def der_f_left(x, h, i):\n",
    "    hi = np.array([0.0, 0.0])\n",
    "    hi[i] = h\n",
    "    return((f(x) - f(x-hi))/h)\n",
    "\n",
    "def der_f_center(x, h, i):\n",
    "    hi = np.array([0.0, 0.0])\n",
    "    hi[i] = h\n",
    "    return((f(x+hi) - f(x-hi))/(2*h))\n",
    "\n",
    "def der_f_right(x, h, i):\n",
    "    hi = np.array([0.0, 0.0])\n",
    "    hi[i] = h\n",
    "    return((f(x+hi) - f(x))/h)\n",
    "\n",
    "def der_f(x, h, i):\n",
    "    return(der_f_center(x, h, i))\n",
    "\n",
    "def grad_f(x, h=h):\n",
    "    return(np.array([\n",
    "        der_f(x, h, i=0),\n",
    "        der_f(x, h, i=1)\n",
    "    ]))"
   ]
  },
  {
   "cell_type": "code",
   "execution_count": 146,
   "metadata": {},
   "outputs": [
    {
     "data": {
      "text/plain": [
       "array([0.91036648, 0.41380294])"
      ]
     },
     "execution_count": 146,
     "metadata": {},
     "output_type": "execute_result"
    }
   ],
   "source": [
    "def antigrad_direction(x):\n",
    "    return(-grad_f(x, h) / norm(grad_f(x, h)))\n",
    "antigrad_direction(x0)"
   ]
  },
  {
   "cell_type": "markdown",
   "metadata": {},
   "source": [
    "# Swann"
   ]
  },
  {
   "cell_type": "code",
   "execution_count": 148,
   "metadata": {},
   "outputs": [
    {
     "data": {
      "text/plain": [
       "[array([-0.04383457,  0.52552974]), array([2.28670361, 1.58486528])]"
      ]
     },
     "execution_count": 148,
     "metadata": {},
     "output_type": "execute_result"
    }
   ],
   "source": [
    "def swann(x, delta, direct):\n",
    "    xs = [x]\n",
    "    i = 0\n",
    "    \n",
    "    x_positive = xs[-1] + direct * delta * 2**i\n",
    "    x_negative = xs[-1] - direct * delta * 2**i\n",
    "#     if f(x) < f(x_negative) and f(x) < f(x_positive):\n",
    "#         return([x, x])\n",
    "    if f(x_negative) < f(x_positive):\n",
    "        direct = -direct\n",
    "\n",
    "    while True:\n",
    "        x = xs[-1] + direct * delta * 2**i\n",
    "        if f(xs[-1]) < f(x):\n",
    "            x_half = xs[-1] + direct * delta * 2**(i-1)\n",
    "            xs.append(x_half)\n",
    "            xs.append(x)\n",
    "            break;\n",
    "        else:\n",
    "            xs.append(x)\n",
    "            i += 1\n",
    "\n",
    "    if len(xs) > 3 and f(xs[-3]) < f(xs[-2]):\n",
    "        interval = [xs[-4], xs[-2]]\n",
    "    else:\n",
    "        interval = [xs[-3], xs[-1]]\n",
    "    return(interval)\n",
    "\n",
    "interval = swann(x0, delta=h, direct=antigrad_direction(x0))\n",
    "interval"
   ]
  },
  {
   "cell_type": "markdown",
   "metadata": {},
   "source": [
    "# Golden ratio"
   ]
  },
  {
   "cell_type": "code",
   "execution_count": 149,
   "metadata": {},
   "outputs": [
    {
     "data": {
      "text/plain": [
       "array([0.99999903, 0.99999956])"
      ]
     },
     "execution_count": 149,
     "metadata": {},
     "output_type": "execute_result"
    }
   ],
   "source": [
    "def golden_ratio(interval, direct):\n",
    "    x_positive = interval[0] + direct\n",
    "    x_negative = interval[1] - direct\n",
    "    if f(x_negative) <= f(x_positive):\n",
    "        direct = -direct\n",
    "\n",
    "    step = 0.618\n",
    "    a = interval[0]\n",
    "    b = interval[1]\n",
    "    l = b - a\n",
    "    x1 = a + (1 - step) * norm(l) * direct\n",
    "    x2 = a + step * norm(l) * direct\n",
    "\n",
    "    while True:\n",
    "        if f(x1) <= f(x2):\n",
    "            a = a\n",
    "            b = x2\n",
    "            l = b - a\n",
    "            x2 = x1\n",
    "            x1 = a + (1 - step) * norm(l) * direct\n",
    "        else:\n",
    "            a = x1\n",
    "            b = b\n",
    "            l = b - a\n",
    "            x1 = x2\n",
    "            x2 = a + step * norm(l) * direct\n",
    "        if norm(l) < eps:\n",
    "            x = x1 if f(x1) < f(x2) else x2\n",
    "            return(x)\n",
    "\n",
    "x = golden_ratio(interval, direct=antigrad_direction(x0))\n",
    "x"
   ]
  },
  {
   "cell_type": "markdown",
   "metadata": {},
   "source": [
    "# DSK-Powell method"
   ]
  },
  {
   "cell_type": "code",
   "execution_count": 159,
   "metadata": {},
   "outputs": [
    {
     "data": {
      "text/plain": [
       "array([1.01134003, 0.99448106])"
      ]
     },
     "execution_count": 159,
     "metadata": {},
     "output_type": "execute_result"
    }
   ],
   "source": [
    "def dsk_powell(interval, direct):\n",
    "    # DSK\n",
    "    x1, x3 = interval\n",
    "    x2 = (x1 + x3)/2\n",
    "    delta_x = norm(x1-x2)\n",
    "    x_star = x2 + delta_x * (f(x1) - f(x3)) / (2 * (f(x1) - 2*f(x2) + f(x3)))\n",
    "    m = min([x1, x2, x3], key=lambda x: f(x))\n",
    "\n",
    "    exit_criteria = norm(f(x1) - f(m)) < eps and norm(x1 - m) < eps\n",
    "\n",
    "    xs = sorted([x1, x2, x3, x_star], key=lambda x: x[0])\n",
    "    m = min(xs, key=lambda x: f(x))\n",
    "\n",
    "    if f(xs[1]) == f(m):\n",
    "        x1 = xs[0]\n",
    "        x2 = xs[1]\n",
    "        x3 = xs[2]\n",
    "    else:\n",
    "        x1 = xs[1]\n",
    "        x2 = xs[2]\n",
    "        x3 = xs[3]\n",
    "\n",
    "        \n",
    "    # Powell    \n",
    "    while not exit_criteria:\n",
    "        a1 = (f(x2) - f(x1)) / (x2 - x1)\n",
    "        a2 = ((f(x3) - f(x1) / (x3 - x1)) - ((f(x2) - f(x1)) / (x2 - x1))) / (x3 - x2)\n",
    "        x_star = ((x2 + x1) / 2) - a1 / (2 * a2)\n",
    "\n",
    "        m = min([x1, x2, x3], key=lambda x: f(x))\n",
    "        \n",
    "        exit_criteria = norm(f(x1) - f(m)) < eps and norm(x1 - m) < eps\n",
    "\n",
    "        xs = sorted([x1, x2, x3, x_star], key=lambda x: x[0])\n",
    "        m = min(xs, key=lambda x: f(x))\n",
    "        \n",
    "        if f(xs[1]) == f(m):\n",
    "            if f(x1) == f(xs[0]) and f(x2) == f(xs[1]) and f(x3) == f(xs[2]):\n",
    "                return(m)\n",
    "            x1 = xs[0]\n",
    "            x2 = xs[1]\n",
    "            x3 = xs[2]\n",
    "        else:\n",
    "            if f(x1) == f(xs[1]) and f(x2) == f(xs[2]) and f(x3) == f(xs[3]):\n",
    "                return(m)\n",
    "            x1 = xs[1]\n",
    "            x2 = xs[2]\n",
    "            x3 = xs[3]\n",
    "    return(m)\n",
    "\n",
    "x = dsk_powell(interval, direct=antigrad_direction(x0))\n",
    "x"
   ]
  },
  {
   "cell_type": "code",
   "execution_count": 169,
   "metadata": {},
   "outputs": [],
   "source": [
    "def find_min_in_direction(x0, direction):\n",
    "    interval = swann(x0, delta=h, direct=direction)\n",
    "#     x = dsk_powell(interval, direct=direction)\n",
    "    x = golden_ratio(interval, direct=direction)\n",
    "    return(x)"
   ]
  },
  {
   "cell_type": "markdown",
   "metadata": {},
   "source": [
    "# Partan method"
   ]
  },
  {
   "cell_type": "code",
   "execution_count": 170,
   "metadata": {},
   "outputs": [
    {
     "name": "stdout",
     "output_type": "stream",
     "text": [
      "200\n",
      "f(x0) = f([-1.2  0. ]) = 5.840000000000001\n",
      "f(x1) = f([1.00004843 1.00002201]) = 2.8302040222158755e-09\n",
      "f(x2) = f([1.00036204 1.00016457]) = 1.581582938200643e-07\n",
      "f(x3) = f([1.02067791 1.00939905]) = 0.0005159182703755073\n",
      "f(x4) = f([1.01187045 1.00539566]) = 0.0001700208360876086\n",
      "f(x5) = f([0.9999911  0.99999595]) = 9.563414268731015e-11\n",
      "f(x6) = f([0.99999107 0.99999594]) = 9.617668692002813e-11\n"
     ]
    }
   ],
   "source": [
    "xs = [x0]\n",
    "directions = []\n",
    "grad_exit_criteria = False\n",
    "eps = 10**-3\n",
    "counter = 0\n",
    "\n",
    "while(not grad_exit_criteria):\n",
    "    # antigrad direction\n",
    "    direction = antigrad_direction(xs[-1])\n",
    "    directions.append(direction)\n",
    "    x = find_min_in_direction(xs[-1], directions[-1])\n",
    "    xs.append(x)\n",
    "\n",
    "    # antigrad direction\n",
    "    direction = antigrad_direction(xs[-1])\n",
    "    x = find_min_in_direction(xs[-1], direction)\n",
    "    xs.append(x)\n",
    "\n",
    "    # partan direction\n",
    "    direction = xs[-1] - xs[-3]\n",
    "    x = find_min_in_direction(xs[-1], direction)\n",
    "    xs.append(x)\n",
    "\n",
    "    grad_exit_criteria = norm(grad_f(xs[-1])) < eps\n",
    "print(counter)\n",
    "for i, x in enumerate(xs):\n",
    "    print(f\"f(x{i}) = f({x}) = {f(x)}\")"
   ]
  },
  {
   "cell_type": "markdown",
   "metadata": {},
   "source": [
    "# Modified Partan method"
   ]
  },
  {
   "cell_type": "code",
   "execution_count": 136,
   "metadata": {},
   "outputs": [
    {
     "name": "stdout",
     "output_type": "stream",
     "text": [
      "f(x0) = f([-1.2  0. ]) = 5.840000000000001\n",
      "f(x1) = f([0.99999903 0.99999956]) = 1.1347466399070316e-12\n",
      "f(x2) = f([0.99999648 0.9999984 ]) = 1.4956942676831313e-11\n",
      "f(x3) = f([0.97968736 0.99076698]) = 0.0004978519410157535\n",
      "f(x4) = f([0.98878862 0.99490392]) = 0.0001516652015117905\n",
      "f(x5) = f([0.99585117 0.99811417]) = 2.0769106690942587e-05\n",
      "f(x6) = f([0.99584862 0.99811301]) = 2.0794655330569955e-05\n",
      "f(x7) = f([0.99827281 0.99921491]) = 3.5995444161504934e-06\n",
      "f(x8) = f([0.99827026 0.99921375]) = 3.610185105002426e-06\n",
      "f(x9) = f([0.99999993 0.99999997]) = 5.486478914467565e-15\n"
     ]
    }
   ],
   "source": [
    "xs = [x0]\n",
    "# First step of a regular Partan method\n",
    "# antigrad_direction\n",
    "direction = antigrad_direction(xs[-1])\n",
    "x = find_min_in_direction(xs[-1], direction)\n",
    "xs.append(x)\n",
    "# antigrad_direction\n",
    "direction = antigrad_direction(xs[-1])\n",
    "x = find_min_in_direction(xs[-1], direction)\n",
    "xs.append(x)\n",
    "# partan direction\n",
    "direction = xs[-3] - xs[-1]\n",
    "x = find_min_in_direction(xs[-1], direction)\n",
    "xs.append(x)\n",
    "\n",
    "grad_exit_criteria = False\n",
    "\n",
    "while(not grad_exit_criteria):\n",
    "    # antigrad_direction\n",
    "    direction = antigrad_direction(xs[-1])\n",
    "    x = find_min_in_direction(xs[-1], direction)\n",
    "    xs.append(x)\n",
    "\n",
    "    # modified partan direction\n",
    "    direction = xs[-1] - xs[-4]\n",
    "    x = find_min_in_direction(xs[-1], direction)\n",
    "    xs.append(x)\n",
    "\n",
    "    grad_exit_criteria = norm(grad_f(xs[-1])) < eps\n",
    "\n",
    "for i, x in enumerate(xs):\n",
    "    print(f\"f(x{i}) = f({x}) = {f(x)}\")"
   ]
  },
  {
   "cell_type": "code",
   "execution_count": null,
   "metadata": {},
   "outputs": [],
   "source": []
  }
 ],
 "metadata": {
  "kernelspec": {
   "display_name": "Python 3",
   "language": "python",
   "name": "python3"
  },
  "language_info": {
   "codemirror_mode": {
    "name": "ipython",
    "version": 3
   },
   "file_extension": ".py",
   "mimetype": "text/x-python",
   "name": "python",
   "nbconvert_exporter": "python",
   "pygments_lexer": "ipython3",
   "version": "3.6.5"
  }
 },
 "nbformat": 4,
 "nbformat_minor": 2
}
