{
 "cells": [
  {
   "cell_type": "code",
   "execution_count": 137,
   "metadata": {},
   "outputs": [],
   "source": [
    "import numpy as np\n",
    "from numpy.linalg import norm"
   ]
  },
  {
   "cell_type": "markdown",
   "metadata": {},
   "source": [
    "# Input"
   ]
  },
  {
   "cell_type": "code",
   "execution_count": 288,
   "metadata": {},
   "outputs": [],
   "source": [
    "# Power function\n",
    "def f(x):\n",
    "    global counter\n",
    "    counter += 1\n",
    "    return((x[0]-1)**2 + (x[1]-1)**2)\n",
    "#     return((1-x[0])**2 + 100*(x[1]-x[0]**2)**2)\n",
    "\n",
    "# Rosenbrock function\n",
    "# def f(x):\n",
    "#     return((1-x[0])**2 + 100*(x[1]-x[0]**2)**2)\n",
    "\n",
    "x0 = np.array([-1.2, 0])\n",
    "\n",
    "# h = 10**-2\n",
    "# h = 10**-3\n",
    "h = 10**-5\n",
    "\n",
    "eps = 10**-2"
   ]
  },
  {
   "cell_type": "markdown",
   "metadata": {},
   "source": [
    "# Derivatives"
   ]
  },
  {
   "cell_type": "code",
   "execution_count": 289,
   "metadata": {},
   "outputs": [],
   "source": [
    "def der_f_left(x, h, i):\n",
    "    hi = np.array([0.0, 0.0])\n",
    "    hi[i] = h\n",
    "    return((f(x) - f(x-hi))/h)\n",
    "\n",
    "def der_f_center(x, h, i):\n",
    "    hi = np.array([0.0, 0.0])\n",
    "    hi[i] = h\n",
    "    return((f(x+hi) - f(x-hi))/(2*h))\n",
    "\n",
    "def der_f_right(x, h, i):\n",
    "    hi = np.array([0.0, 0.0])\n",
    "    hi[i] = h\n",
    "    return((f(x+hi) - f(x))/h)\n",
    "\n",
    "def der_f(x, h, i):\n",
    "    return(der_f_center(x, h, i))\n",
    "\n",
    "def grad_f(x, h=h):\n",
    "    return(np.array([\n",
    "        der_f(x, h, i=0),\n",
    "        der_f(x, h, i=1)\n",
    "    ]))"
   ]
  },
  {
   "cell_type": "code",
   "execution_count": 290,
   "metadata": {},
   "outputs": [
    {
     "data": {
      "text/plain": [
       "array([0.91036648, 0.41380294])"
      ]
     },
     "execution_count": 290,
     "metadata": {},
     "output_type": "execute_result"
    }
   ],
   "source": [
    "def antigrad_direction(x):\n",
    "    return(-grad_f(x, h) / norm(grad_f(x, h)))\n",
    "antigrad_direction(x0)"
   ]
  },
  {
   "cell_type": "markdown",
   "metadata": {},
   "source": [
    "# Swann"
   ]
  },
  {
   "cell_type": "code",
   "execution_count": 291,
   "metadata": {},
   "outputs": [
    {
     "data": {
      "text/plain": [
       "[array([-0.00677355,  0.54237566]), array([2.37969754, 1.62713525])]"
      ]
     },
     "execution_count": 291,
     "metadata": {},
     "output_type": "execute_result"
    }
   ],
   "source": [
    "def swann(x, delta, direct):\n",
    "    xs = [x]\n",
    "    i = 0\n",
    "    \n",
    "    x_positive = xs[-1] + direct * delta * 2**i\n",
    "    x_negative = xs[-1] - direct * delta * 2**i\n",
    "#     if f(x) < f(x_negative) and f(x) < f(x_positive):\n",
    "#         return([x, x])\n",
    "    if f(x_negative) < f(x_positive):\n",
    "        direct = -direct\n",
    "\n",
    "    while True:\n",
    "        x = xs[-1] + direct * delta * 2**i\n",
    "        if f(xs[-1]) < f(x):\n",
    "            x_half = xs[-1] + direct * delta * 2**(i-1)\n",
    "            xs.append(x_half)\n",
    "            xs.append(x)\n",
    "            break;\n",
    "        else:\n",
    "            xs.append(x)\n",
    "            i += 1\n",
    "\n",
    "    if len(xs) > 3 and f(xs[-3]) < f(xs[-2]):\n",
    "        interval = [xs[-4], xs[-2]]\n",
    "    else:\n",
    "        interval = [xs[-3], xs[-1]]\n",
    "    return(interval)\n",
    "\n",
    "interval = swann(x0, delta=h, direct=antigrad_direction(x0))\n",
    "interval"
   ]
  },
  {
   "cell_type": "markdown",
   "metadata": {},
   "source": [
    "# Golden ratio"
   ]
  },
  {
   "cell_type": "code",
   "execution_count": 292,
   "metadata": {},
   "outputs": [
    {
     "data": {
      "text/plain": [
       "array([0.99891596, 0.99950725])"
      ]
     },
     "execution_count": 292,
     "metadata": {},
     "output_type": "execute_result"
    }
   ],
   "source": [
    "def golden_ratio(interval, direct):\n",
    "    x_positive = interval[0] + direct\n",
    "    x_negative = interval[1] - direct\n",
    "    if f(x_negative) <= f(x_positive):\n",
    "        direct = -direct\n",
    "\n",
    "    step = 0.618\n",
    "    a = interval[0]\n",
    "    b = interval[1]\n",
    "    l = b - a\n",
    "    x1 = a + (1 - step) * norm(l) * direct\n",
    "    x2 = a + step * norm(l) * direct\n",
    "\n",
    "    while True:\n",
    "        if f(x1) <= f(x2):\n",
    "            a = a\n",
    "            b = x2\n",
    "            l = b - a\n",
    "            x2 = x1\n",
    "            x1 = a + (1 - step) * norm(l) * direct\n",
    "        else:\n",
    "            a = x1\n",
    "            b = b\n",
    "            l = b - a\n",
    "            x1 = x2\n",
    "            x2 = a + step * norm(l) * direct\n",
    "        if norm(l) < eps:\n",
    "            x = x1 if f(x1) < f(x2) else x2\n",
    "            return(x)\n",
    "\n",
    "x = golden_ratio(interval, direct=antigrad_direction(x0))\n",
    "x"
   ]
  },
  {
   "cell_type": "markdown",
   "metadata": {},
   "source": [
    "# DSK-Powell method"
   ]
  },
  {
   "cell_type": "code",
   "execution_count": 293,
   "metadata": {},
   "outputs": [
    {
     "data": {
      "text/plain": [
       "array([1.01032017, 0.97941742])"
      ]
     },
     "execution_count": 293,
     "metadata": {},
     "output_type": "execute_result"
    }
   ],
   "source": [
    "def dsk_powell(interval, direct):\n",
    "    # DSK\n",
    "    x1, x3 = interval\n",
    "    x2 = (x1 + x3)/2\n",
    "    delta_x = norm(x1-x2)\n",
    "    x_star = x2 + delta_x * (f(x1) - f(x3)) / (2 * (f(x1) - 2*f(x2) + f(x3)))\n",
    "    m = min([x1, x2, x3], key=lambda x: f(x))\n",
    "\n",
    "    exit_criteria = norm(f(x1) - f(m)) < eps and norm(x1 - m) < eps\n",
    "\n",
    "    xs = sorted([x1, x2, x3, x_star], key=lambda x: x[0])\n",
    "    m = min(xs, key=lambda x: f(x))\n",
    "\n",
    "    if f(xs[1]) == f(m):\n",
    "        x1 = xs[0]\n",
    "        x2 = xs[1]\n",
    "        x3 = xs[2]\n",
    "    else:\n",
    "        x1 = xs[1]\n",
    "        x2 = xs[2]\n",
    "        x3 = xs[3]\n",
    "\n",
    "        \n",
    "    # Powell    \n",
    "    while not exit_criteria:\n",
    "        a1 = (f(x2) - f(x1)) / (x2 - x1)\n",
    "        a2 = ((f(x3) - f(x1) / (x3 - x1)) - ((f(x2) - f(x1)) / (x2 - x1))) / (x3 - x2)\n",
    "        x_star = ((x2 + x1) / 2) - a1 / (2 * a2)\n",
    "\n",
    "        m = min([x1, x2, x3], key=lambda x: f(x))\n",
    "        \n",
    "        exit_criteria = norm(f(x1) - f(m)) < eps and norm(x1 - m) < eps\n",
    "\n",
    "        xs = sorted([x1, x2, x3, x_star], key=lambda x: x[0])\n",
    "        m = min(xs, key=lambda x: f(x))\n",
    "        \n",
    "        if f(xs[1]) == f(m):\n",
    "            if f(x1) == f(xs[0]) and f(x2) == f(xs[1]) and f(x3) == f(xs[2]):\n",
    "                return(m)\n",
    "            x1 = xs[0]\n",
    "            x2 = xs[1]\n",
    "            x3 = xs[2]\n",
    "        else:\n",
    "            if f(x1) == f(xs[1]) and f(x2) == f(xs[2]) and f(x3) == f(xs[3]):\n",
    "                return(m)\n",
    "            x1 = xs[1]\n",
    "            x2 = xs[2]\n",
    "            x3 = xs[3]\n",
    "    return(m)\n",
    "\n",
    "x = dsk_powell(interval, direct=antigrad_direction(x0))\n",
    "x"
   ]
  },
  {
   "cell_type": "code",
   "execution_count": 314,
   "metadata": {},
   "outputs": [],
   "source": [
    "def find_min_in_direction(x0, direction):\n",
    "    interval = swann(x0, delta=h, direct=direction)\n",
    "#     x = dsk_powell(interval, direct=direction)\n",
    "    x = golden_ratio(interval, direct=direction)\n",
    "    return(x)"
   ]
  },
  {
   "cell_type": "markdown",
   "metadata": {},
   "source": [
    "# Partan method"
   ]
  },
  {
   "cell_type": "code",
   "execution_count": 335,
   "metadata": {},
   "outputs": [
    {
     "name": "stdout",
     "output_type": "stream",
     "text": [
      "368\n",
      "f(x0) = f([-1.2  0. ]) = 5.840000000000001\n",
      "f(x1) = f([-0.26869772  0.42331922]) = 1.9421546300571715\n",
      "f(x2) = f([0.66260375 0.84663807]) = 0.13735611345192358\n",
      "f(x3) = f([0.71281789 0.86946268]) = 0.09951355924800227\n",
      "f(x4) = f([1.00000023 1.0000001 ]) = 6.294185203408995e-14\n",
      "f(x5) = f([1.00000306 1.00000139]) = 1.1277242811351177e-11\n",
      "f(x6) = f([1.00000387 1.00000176]) = 1.8073184130110885e-11\n"
     ]
    }
   ],
   "source": [
    "xs = [x0]\n",
    "directions = []\n",
    "grad_exit_criteria = False\n",
    "eps = 10**-5\n",
    "# h = 10**-3\n",
    "counter = 0\n",
    "\n",
    "while(not grad_exit_criteria):\n",
    "    # antigrad direction\n",
    "    direction = antigrad_direction(xs[-1])\n",
    "    directions.append(direction)\n",
    "    x = find_min_in_direction(xs[-1], directions[-1])\n",
    "    xs.append(x)\n",
    "\n",
    "    # antigrad direction\n",
    "    direction = antigrad_direction(xs[-1])\n",
    "    x = find_min_in_direction(xs[-1], direction)\n",
    "    xs.append(x)\n",
    "\n",
    "    # partan direction\n",
    "    direction = xs[-3] - xs[-1]\n",
    "    x = find_min_in_direction(xs[-1], direction)\n",
    "    xs.append(x)\n",
    "\n",
    "    grad_exit_criteria = norm(grad_f(xs[-1])) < eps\n",
    "print(counter)\n",
    "for i, x in enumerate(xs):\n",
    "    print(f\"f(x{i}) = f({x}) = {f(x)}\")"
   ]
  },
  {
   "cell_type": "markdown",
   "metadata": {},
   "source": [
    "# Modified Partan method"
   ]
  },
  {
   "cell_type": "code",
   "execution_count": 336,
   "metadata": {},
   "outputs": [
    {
     "name": "stdout",
     "output_type": "stream",
     "text": [
      "482\n",
      "f(x0) = f([-1.2  0. ]) = 5.840000000000001\n",
      "f(x1) = f([-0.26869772  0.42331922]) = 1.9421546300571715\n",
      "f(x2) = f([0.66260375 0.84663807]) = 0.13735611345192358\n",
      "f(x3) = f([0.71281789 0.86946268]) = 0.09951355924800227\n",
      "f(x4) = f([1.00000023 1.0000001 ]) = 6.294185203408995e-14\n",
      "f(x5) = f([1.00000459 1.00000208]) = 2.537211087138011e-11\n",
      "f(x6) = f([1.00000741 1.00000337]) = 6.633047150545015e-11\n",
      "f(x7) = f([1.00000823 1.00000374]) = 8.167645082964733e-11\n",
      "f(x8) = f([1.00001106 1.00000503]) = 1.4749570427120327e-10\n",
      "f(x9) = f([1.00000444 1.00000202]) = 2.3751941614296394e-11\n"
     ]
    }
   ],
   "source": [
    "xs = [x0]\n",
    "counter = 0\n",
    "# eps = 10**-3\n",
    "# First step of a regular Partan method\n",
    "# antigrad_direction\n",
    "direction = antigrad_direction(xs[-1])\n",
    "x = find_min_in_direction(xs[-1], direction)\n",
    "xs.append(x)\n",
    "# antigrad_direction\n",
    "direction = antigrad_direction(xs[-1])\n",
    "x = find_min_in_direction(xs[-1], direction)\n",
    "xs.append(x)\n",
    "# partan direction\n",
    "direction = xs[-3] - xs[-1]\n",
    "x = find_min_in_direction(xs[-1], direction)\n",
    "xs.append(x)\n",
    "\n",
    "grad_exit_criteria = False\n",
    "\n",
    "while(not grad_exit_criteria):\n",
    "    # antigrad_direction\n",
    "    direction = antigrad_direction(xs[-1])\n",
    "    x = find_min_in_direction(xs[-1], direction)\n",
    "    xs.append(x)\n",
    "\n",
    "    # modified partan direction\n",
    "    direction = xs[-1] - xs[-4]\n",
    "    x = find_min_in_direction(xs[-1], direction)\n",
    "    xs.append(x)\n",
    "\n",
    "    grad_exit_criteria = norm(grad_f(xs[-1])) < eps\n",
    "\n",
    "print(counter)\n",
    "for i, x in enumerate(xs):\n",
    "    print(f\"f(x{i}) = f({x}) = {f(x)}\")"
   ]
  },
  {
   "cell_type": "markdown",
   "metadata": {},
   "source": []
  }
 ],
 "metadata": {
  "kernelspec": {
   "display_name": "Python 3",
   "language": "python",
   "name": "python3"
  },
  "language_info": {
   "codemirror_mode": {
    "name": "ipython",
    "version": 3
   },
   "file_extension": ".py",
   "mimetype": "text/x-python",
   "name": "python",
   "nbconvert_exporter": "python",
   "pygments_lexer": "ipython3",
   "version": "3.6.5"
  }
 },
 "nbformat": 4,
 "nbformat_minor": 2
}
