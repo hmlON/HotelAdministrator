{
 "cells": [
  {
   "cell_type": "code",
   "execution_count": 1,
   "metadata": {},
   "outputs": [],
   "source": [
    "import numpy as np\n",
    "from numpy.linalg import norm\n",
    "from numpy.linalg import inv"
   ]
  },
  {
   "cell_type": "code",
   "execution_count": 2,
   "metadata": {},
   "outputs": [],
   "source": [
    "def f(x):\n",
    "    return 4*(x[0]**2) + x[0]*x[1] + 2*x[1]**2\n",
    "\n",
    "def grad_f(x):\n",
    "    return(np.array([\n",
    "        8*x[0] + x[1],\n",
    "        x[0] + 4*x[1]\n",
    "    ]))\n",
    "\n",
    "H = np.array([\n",
    "    [8, 1],\n",
    "    [1, 4]\n",
    "])\n",
    "\n",
    "x0 = np.array([6, 4])"
   ]
  },
  {
   "cell_type": "markdown",
   "metadata": {},
   "source": [
    "# Gradient descent\n",
    "### with constant step"
   ]
  },
  {
   "cell_type": "code",
   "execution_count": 3,
   "metadata": {},
   "outputs": [
    {
     "name": "stdout",
     "output_type": "stream",
     "text": [
      "X1: [5.07903275 3.61036001]\n",
      "X2: [4.16412769 3.20669091]\n",
      "X3: [3.25745385 2.78485855]\n",
      "X4: [2.36271226 2.3382743 ]\n",
      "X5: [1.48708583 1.85528533]\n",
      "X6: [0.64779114 1.31160856]\n",
      "X7: [-0.0926796   0.63951997]\n",
      "X8: [-0.05137601 -0.35962668]\n",
      "X9: [0.40804963 0.52858956]\n",
      "X10: [-0.42463338 -0.0251604 ]\n",
      "After 10 steps min = [-0.42463338 -0.0251604 ] function value= 0.733204\n"
     ]
    }
   ],
   "source": [
    "STEP_COUNT = 10\n",
    "STEP_SIZE = 1\n",
    "\n",
    "x = x0\n",
    "\n",
    "for i in range(STEP_COUNT):\n",
    "    x = x - STEP_SIZE * grad_f(x) / norm(grad_f(x))\n",
    "    print(f\"X{i+1}: {x}\")\n",
    "\n",
    "print(\"After\", STEP_COUNT, \"steps min =\", x, \"function value=\", format(f(x), \".6f\"))"
   ]
  },
  {
   "cell_type": "markdown",
   "metadata": {},
   "source": [
    "### with optimal step"
   ]
  },
  {
   "cell_type": "code",
   "execution_count": 4,
   "metadata": {},
   "outputs": [
    {
     "name": "stdout",
     "output_type": "stream",
     "text": [
      "X1: [-0.4115099   1.28743812]\n",
      "X2: [0.10387686 0.06925124]\n",
      "X3: [-0.00712439  0.02228917]\n",
      "X4: [0.0017984  0.00119893]\n",
      "X5: [-0.00012334  0.00038589]\n",
      "X6: [3.11353602e-05 2.07569068e-05]\n",
      "X7: [-2.13541817e-06  6.68080826e-06]\n",
      "X8: [5.39040557e-07 3.59360371e-07]\n",
      "X9: [-3.69700877e-08  1.15663560e-07]\n",
      "X10: [9.33230642e-09 6.22153762e-09]\n",
      "After 10 steps min = [9.33230642e-09 6.22153762e-09] function value= 0.000000\n"
     ]
    }
   ],
   "source": [
    "STEP_COUNT = 10\n",
    "\n",
    "x = x0\n",
    "\n",
    "def optimal_step_formula(x):\n",
    "    s = -grad_f(x)\n",
    "    sT = s[np.newaxis]\n",
    "    gradT = grad_f(x)[np.newaxis]\n",
    "    return(-(gradT.dot(s) / sT.dot(H).dot(s))[0])\n",
    "\n",
    "for i in range(STEP_COUNT):\n",
    "    step = optimal_step_formula(x)\n",
    "    x = x - step * grad_f(x)\n",
    "    print(f\"X{i+1}: {x}\")\n",
    "\n",
    "print(\"After\", STEP_COUNT, \"steps min =\", x, \"function value=\", format(f(x), \".6f\"))"
   ]
  },
  {
   "cell_type": "markdown",
   "metadata": {},
   "source": [
    "# Partan method"
   ]
  },
  {
   "cell_type": "code",
   "execution_count": 5,
   "metadata": {},
   "outputs": [
    {
     "name": "stdout",
     "output_type": "stream",
     "text": [
      "X1: [-0.4115099   1.28743812]\n",
      "X2: [0.10387686 0.06925124]\n",
      "X3: [ 1.11022302e-16 -3.05311332e-16]\n",
      "0.12329826732673267\n",
      "0.2570967741935484\n",
      "0.017617823425045954\n"
     ]
    }
   ],
   "source": [
    "STEP_COUNT = 1\n",
    "x = x0\n",
    "\n",
    "def partan_step_formula(x, s):\n",
    "    sT = s[np.newaxis]\n",
    "    gradT = grad_f(x)[np.newaxis]\n",
    "    return(-(gradT.dot(s) / sT.dot(H).dot(s))[0])\n",
    "\n",
    "for i in range(STEP_COUNT):\n",
    "    x1 = x  - optimal_step_formula(x)  * grad_f(x)\n",
    "    x2 = x1 - optimal_step_formula(x1) * grad_f(x1)\n",
    "    x3 = x2 + partan_step_formula(x2, s=(x2 - x0)) * (x2 - x0)\n",
    "    print(f\"X{i*3+1}: {x1}\")\n",
    "    print(f\"X{i*3+2}: {x2}\")\n",
    "    print(f\"X{i*3+3}: {x3}\")\n",
    "    print(optimal_step_formula(x0))\n",
    "    print(optimal_step_formula(x1))\n",
    "    print(partan_step_formula(x2, s=(x2 - x0)))\n",
    "    x = x3"
   ]
  },
  {
   "cell_type": "markdown",
   "metadata": {},
   "source": [
    "# Newton method"
   ]
  },
  {
   "cell_type": "code",
   "execution_count": 104,
   "metadata": {},
   "outputs": [
    {
     "name": "stdout",
     "output_type": "stream",
     "text": [
      "X1: [8.8817842e-16 0.0000000e+00]\n",
      "X2: [0. 0.]\n",
      "X3: [0. 0.]\n",
      "X4: [0. 0.]\n",
      "X5: [0. 0.]\n"
     ]
    }
   ],
   "source": [
    "STEP_COUNT = 5\n",
    "x = x0\n",
    "\n",
    "for i in range(STEP_COUNT):\n",
    "    x = x - inv(H).dot(grad_f(x))\n",
    "    print(f\"X{i+1}: {x}\")"
   ]
  },
  {
   "cell_type": "code",
   "execution_count": null,
   "metadata": {},
   "outputs": [],
   "source": []
  }
 ],
 "metadata": {
  "kernelspec": {
   "display_name": "Python 3",
   "language": "python",
   "name": "python3"
  },
  "language_info": {
   "codemirror_mode": {
    "name": "ipython",
    "version": 3
   },
   "file_extension": ".py",
   "mimetype": "text/x-python",
   "name": "python",
   "nbconvert_exporter": "python",
   "pygments_lexer": "ipython3",
   "version": "3.6.5"
  }
 },
 "nbformat": 4,
 "nbformat_minor": 2
}
