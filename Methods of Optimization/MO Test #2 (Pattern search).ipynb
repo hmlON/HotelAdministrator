{
 "cells": [
  {
   "cell_type": "code",
   "execution_count": 4,
   "metadata": {},
   "outputs": [],
   "source": [
    "import numpy as np"
   ]
  },
  {
   "cell_type": "code",
   "execution_count": 5,
   "metadata": {},
   "outputs": [],
   "source": [
    "def f(x):\n",
    "    return (x[0]-2)**2 + x[1]**2\n",
    "\n",
    "x0 = np.array([4, 6])\n",
    "step = np.array([0.6, 0.8])\n",
    "x_step = (step[0], 0)\n",
    "y_step = (0, step[1])"
   ]
  },
  {
   "cell_type": "code",
   "execution_count": 6,
   "metadata": {},
   "outputs": [],
   "source": [
    "def get_direction(x, step):\n",
    "    if f(x) < f(x + step) and f(x) < f(x - step): # current is min\n",
    "        return 0\n",
    "    elif f(x + step) < f(x - step):\n",
    "        return 1\n",
    "    else:\n",
    "        return -1\n",
    "\n",
    "def get_directions(x):\n",
    "    return (get_direction(x, x_step), get_direction(x, y_step))\n",
    "\n",
    "def xp_formula(x1, x0):\n",
    "    return 2 * x1 - x0\n",
    "\n",
    "def find_next_x(x1, x0):\n",
    "    xp = xp_formula(x1, x0)\n",
    "    directions = get_directions(xp)\n",
    "    return xp + (directions * step)"
   ]
  },
  {
   "cell_type": "code",
   "execution_count": 7,
   "metadata": {},
   "outputs": [],
   "source": [
    "directions = get_directions(x0)\n",
    "x1 = x0 + (directions * step)"
   ]
  },
  {
   "cell_type": "code",
   "execution_count": 8,
   "metadata": {},
   "outputs": [],
   "source": [
    "x2 = find_next_x(x1, x0)\n",
    "x3 = find_next_x(x2, x1)\n",
    "x4 = find_next_x(x3, x2)"
   ]
  },
  {
   "cell_type": "code",
   "execution_count": 9,
   "metadata": {},
   "outputs": [
    {
     "name": "stdout",
     "output_type": "stream",
     "text": [
      "x0: [4 6] 40\n",
      "x1: [3.4 5.2] 29.000000000000004\n",
      "x2: [2.2 3.6] 13.000000000000004\n",
      "x3: [1.6 1.2] 1.6000000000000023\n",
      "x4: [ 1.6 -0.4] 0.3199999999999993\n"
     ]
    }
   ],
   "source": [
    "for i, x in enumerate([x0, x1, x2, x3, x4]):\n",
    "    print(f\"x{i}:\", x, f(x))"
   ]
  },
  {
   "cell_type": "code",
   "execution_count": null,
   "metadata": {},
   "outputs": [],
   "source": []
  }
 ],
 "metadata": {
  "kernelspec": {
   "display_name": "Python 3",
   "language": "python",
   "name": "python3"
  },
  "language_info": {
   "codemirror_mode": {
    "name": "ipython",
    "version": 3
   },
   "file_extension": ".py",
   "mimetype": "text/x-python",
   "name": "python",
   "nbconvert_exporter": "python",
   "pygments_lexer": "ipython3",
   "version": "3.6.5"
  }
 },
 "nbformat": 4,
 "nbformat_minor": 2
}
