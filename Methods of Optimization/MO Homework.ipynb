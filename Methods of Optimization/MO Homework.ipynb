{
 "cells": [
  {
   "cell_type": "code",
   "execution_count": 2,
   "metadata": {},
   "outputs": [],
   "source": [
    "import numpy as np\n",
    "from numpy.linalg import inv"
   ]
  },
  {
   "cell_type": "code",
   "execution_count": 3,
   "metadata": {},
   "outputs": [],
   "source": [
    "def f(x):\n",
    "    return (x[0]-9)**2 - x[0]*x[1] + 3*x[1]**2\n",
    "\n",
    "def grad_f(x):\n",
    "    return np.array([2*x[0]-x[1]-18, -x[0]+6*x[1]])\n",
    "\n",
    "x0 = np.array([-15.8, -15.8])\n",
    "A0 = np.identity(2)\n",
    "H = np.matrix([\n",
    "    [2, -1],\n",
    "    [-1, 6]\n",
    "])\n",
    "\n",
    "def optimal_step_formula(x):\n",
    "    s = -grad_f(x)\n",
    "    sT = s[np.newaxis]\n",
    "    gradT = grad_f(x)[np.newaxis]\n",
    "    return(float(-(gradT.dot(s) / sT.dot(H).dot(s))))"
   ]
  },
  {
   "cell_type": "code",
   "execution_count": 4,
   "metadata": {},
   "outputs": [],
   "source": [
    "S0 = -A0.dot(grad_f(x0))\n",
    "l0 = optimal_step_formula(x0)\n",
    "x1 = x0 - l0*grad_f(x0)\n",
    "delta_x_0 = x1 - x0\n",
    "delta_f_0 = grad_f(x1) - grad_f(x0)"
   ]
  },
  {
   "cell_type": "code",
   "execution_count": 5,
   "metadata": {},
   "outputs": [
    {
     "data": {
      "text/plain": [
       "array([[1.03254944, 0.10352354],\n",
       "       [0.10352354, 0.18214486]])"
      ]
     },
     "execution_count": 5,
     "metadata": {},
     "output_type": "execute_result"
    }
   ],
   "source": [
    "A1 = A0 \\\n",
    "    + delta_x_0[np.newaxis].T.dot(delta_x_0[np.newaxis])/(delta_x_0[np.newaxis]).dot(delta_f_0) \\\n",
    "    - A0.dot(delta_f_0[np.newaxis].T).dot(delta_f_0[np.newaxis]).dot(A0)/(delta_f_0[np.newaxis]).dot(A0).dot(delta_f_0)\n",
    "A1"
   ]
  },
  {
   "cell_type": "code",
   "execution_count": 6,
   "metadata": {},
   "outputs": [],
   "source": [
    "S1 = - A1.dot(grad_f(x1))\n",
    "l1 = optimal_step_formula(x1)\n",
    "x2 = x1 - l1 * A1.dot(grad_f(x1))\n",
    "delta_x_1 = x2 - x1\n",
    "delta_f_1 = grad_f(x2) - grad_f(x1)"
   ]
  },
  {
   "cell_type": "code",
   "execution_count": 7,
   "metadata": {},
   "outputs": [
    {
     "data": {
      "text/plain": [
       "array([[0.54545455, 0.09090909],\n",
       "       [0.09090909, 0.18181818]])"
      ]
     },
     "execution_count": 7,
     "metadata": {},
     "output_type": "execute_result"
    }
   ],
   "source": [
    "A2 = A1 \\\n",
    "    + delta_x_1[np.newaxis].T.dot(delta_x_1[np.newaxis])/(delta_x_1[np.newaxis]).dot(delta_f_1) \\\n",
    "    - A1.dot(delta_f_1[np.newaxis].T).dot(delta_f_1[np.newaxis]).dot(A1)/(delta_f_1[np.newaxis]).dot(A1).dot(delta_f_1)\n",
    "A2"
   ]
  },
  {
   "cell_type": "code",
   "execution_count": 8,
   "metadata": {},
   "outputs": [
    {
     "data": {
      "text/plain": [
       "matrix([[0.54545455, 0.09090909],\n",
       "        [0.09090909, 0.18181818]])"
      ]
     },
     "execution_count": 8,
     "metadata": {},
     "output_type": "execute_result"
    }
   ],
   "source": [
    "inv(H)"
   ]
  },
  {
   "cell_type": "code",
   "execution_count": 9,
   "metadata": {},
   "outputs": [
    {
     "data": {
      "text/plain": [
       "2.0463630789890885e-12"
      ]
     },
     "execution_count": 9,
     "metadata": {},
     "output_type": "execute_result"
    }
   ],
   "source": [
    "grad_f(x0).dot(grad_f(x1))"
   ]
  },
  {
   "cell_type": "code",
   "execution_count": 11,
   "metadata": {},
   "outputs": [
    {
     "name": "stdout",
     "output_type": "stream",
     "text": [
      "x0: [-15.8 -15.8]\n",
      "f(x0): 1114.3200000000002\n",
      "grad_f(x0): [-33.8 -79. ]\n",
      "A0: [[1. 0.]\n",
      " [0. 1.]]\n",
      "\n",
      "Step 1:\n",
      "S0: [33.8 79. ]\n",
      "l0: 0.21469429911998894\n",
      "x1: [-8.54333269  1.16084963]\n",
      "f(x1): 321.7287620527542\n",
      "grad_f(x1): [-36.24751501  15.50843047]\n",
      "delta_x_0: [ 7.25666731 16.96084963]\n",
      "delta_f_0: [-2.44751501 94.50843047]\n",
      "A1: [[1.03254944 0.10352354]\n",
      " [0.10352354 0.18214486]]\n",
      "\n",
      "Step 2:\n",
      "S1: [35.82186354  0.92769024]\n",
      "l1: 0.2992028217322663\n",
      "x2: [2.17466996 1.43841717]\n",
      "f(x2): 49.66417937371964\n",
      "grad_f(x2): [-15.08907724   6.45583305]\n",
      "delta_x_1: [10.71800265  0.27756754]\n",
      "delta_f_1: [21.15843777 -9.05259742]\n",
      "A2: [[0.54545455 0.09090909]\n",
      " [0.09090909 0.18181818]]\n"
     ]
    }
   ],
   "source": [
    "print('x0:', x0)\n",
    "print('f(x0):', f(x0))\n",
    "print('grad_f(x0):', grad_f(x0))\n",
    "print('A0:', A0)\n",
    "\n",
    "print('\\nStep 1:')\n",
    "print('S0:', S0)\n",
    "print('l0:', l0)\n",
    "print('x1:', x1)\n",
    "print('f(x1):', f(x1))\n",
    "print('grad_f(x1):', grad_f(x1))\n",
    "print('delta_x_0:', delta_x_0)\n",
    "print('delta_f_0:', delta_f_0)\n",
    "print('A1:', A1)\n",
    "\n",
    "print('\\nStep 2:')\n",
    "print('S1:', S1)\n",
    "print('l1:', l1)\n",
    "print('x2:', x2)\n",
    "print('f(x2):', f(x2))\n",
    "print('grad_f(x2):', grad_f(x2))\n",
    "print('delta_x_1:', delta_x_1)\n",
    "print('delta_f_1:', delta_f_1)\n",
    "print('A2:', A2)"
   ]
  },
  {
   "cell_type": "code",
   "execution_count": null,
   "metadata": {},
   "outputs": [],
   "source": []
  }
 ],
 "metadata": {
  "kernelspec": {
   "display_name": "Python 3",
   "language": "python",
   "name": "python3"
  },
  "language_info": {
   "codemirror_mode": {
    "name": "ipython",
    "version": 3
   },
   "file_extension": ".py",
   "mimetype": "text/x-python",
   "name": "python",
   "nbconvert_exporter": "python",
   "pygments_lexer": "ipython3",
   "version": "3.6.5"
  }
 },
 "nbformat": 4,
 "nbformat_minor": 2
}
