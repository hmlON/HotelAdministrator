{
 "cells": [
  {
   "cell_type": "markdown",
   "metadata": {},
   "source": [
    "https://habrahabr.ru/post/332092/"
   ]
  },
  {
   "cell_type": "code",
   "execution_count": 2,
   "metadata": {},
   "outputs": [],
   "source": [
    "import numpy as np"
   ]
  },
  {
   "cell_type": "code",
   "execution_count": 3,
   "metadata": {},
   "outputs": [],
   "source": [
    "def f(x):\n",
    "    return 4*(x[0]-3)**2 + (x[1]-2)**2\n",
    "\n",
    "v1 = np.array([6, 5])\n",
    "v2 = np.array([8, 7])\n",
    "v3 = np.array([6, 7])"
   ]
  },
  {
   "cell_type": "code",
   "execution_count": 4,
   "metadata": {},
   "outputs": [],
   "source": [
    "def nelder_mead(v1, v2, v3, alpha=1, beta=0.5, gamma=2, maxiter=10):\n",
    "    for i in range(maxiter):\n",
    "        points = sorted([v1, v2, v3], key=lambda x: f(x))\n",
    "        \n",
    "        b = points[0]\n",
    "        g = points[1]\n",
    "        w = points[2]\n",
    "        \n",
    "        mid = (g + b)/2\n",
    "\n",
    "        # reflection\n",
    "        xr = mid + alpha * (mid - w)\n",
    "        if f(xr) < f(g):\n",
    "            w = xr\n",
    "        else:\n",
    "            if f(xr) < f(w):\n",
    "                w = xr\n",
    "            c = (w + mid)/2\n",
    "            if f(c) < f(w):\n",
    "                w = c\n",
    "                print(f\"{i}. reflection {w}\")\n",
    "\n",
    "        # expansion\n",
    "        if f(xr) < f(b):\n",
    "            xe = mid + gamma * (xr - mid)\n",
    "            if f(xe) < f(xr):\n",
    "                w = xe\n",
    "            else:\n",
    "                w = xr\n",
    "                print(f\"{i}. expansion {w}\")\n",
    "\n",
    "        # contraction\n",
    "        if f(xr) > f(g):    \n",
    "            xc = mid + beta * (w - mid)\n",
    "            if f(xc) < f(w):\n",
    "                w = xc\n",
    "                print(f\"{i}. contraction {w}\")\n",
    "\n",
    "        # update points\n",
    "        v1 = w\n",
    "        v2 = g\n",
    "        v3 = b\n",
    "        print(w, g, b, \"\\n\")\n",
    "    return b"
   ]
  },
  {
   "cell_type": "code",
   "execution_count": 66,
   "metadata": {},
   "outputs": [
    {
     "name": "stdout",
     "output_type": "stream",
     "text": [
      "Result of Nelder-Mead algorithm: \n",
      "[2. 4.] [6 7] [6 5] \n",
      "\n",
      "1. expansion [2. 2.]\n",
      "[2. 2.] [6 5] [2. 4.] \n",
      "\n",
      "2. reflection [4. 4.]\n",
      "2. contraction [3.  3.5]\n",
      "[3.  3.5] [2. 4.] [2. 2.] \n",
      "\n",
      "3. expansion [3.  1.5]\n",
      "[3.  1.5] [2. 2.] [3.  3.5] \n",
      "\n",
      "4. reflection [2.5  2.25]\n",
      "4. contraction [2.75  2.375]\n",
      "[2.75  2.375] [3.  3.5] [3.  1.5] \n",
      "\n",
      "5. reflection [2.9375  2.71875]\n",
      "5. contraction [2.90625  2.328125]\n",
      "[2.90625  2.328125] [2.75  2.375] [3.  1.5] \n",
      "\n",
      "6. reflection [2.8515625  2.14453125]\n",
      "6. contraction [2.90234375 2.02929688]\n",
      "[2.90234375 2.02929688] [3.  1.5] [2.90625  2.328125] \n",
      "\n",
      "7. reflection [2.95214844 1.83935547]\n",
      "7. contraction [2.92822266 2.0090332 ]\n",
      "[2.92822266 2.0090332 ] [2.90625  2.328125] [2.90234375 2.02929688] \n",
      "\n",
      "8. reflection [2.9197998  1.86468506]\n",
      "8. contraction [2.9175415  1.94192505]\n",
      "[2.9175415  1.94192505] [2.90234375 2.02929688] [2.92822266 2.0090332 ] \n",
      "\n",
      "9. expansion [2.94342041 1.92166138]\n",
      "[2.94342041 1.92166138] [2.9175415  1.94192505] [2.92822266 2.0090332 ] \n",
      "\n",
      "Best poits is: [2.92822266 2.0090332 ]\n"
     ]
    }
   ],
   "source": [
    "print(\"Result of Nelder-Mead algorithm: \")\n",
    "xk = nelder_mead(v1, v2, v3)\n",
    "print(\"Best poits is: %s\"%(xk))"
   ]
  },
  {
   "cell_type": "code",
   "execution_count": null,
   "metadata": {},
   "outputs": [],
   "source": []
  }
 ],
 "metadata": {
  "kernelspec": {
   "display_name": "Python 3",
   "language": "python",
   "name": "python3"
  },
  "language_info": {
   "codemirror_mode": {
    "name": "ipython",
    "version": 3
   },
   "file_extension": ".py",
   "mimetype": "text/x-python",
   "name": "python",
   "nbconvert_exporter": "python",
   "pygments_lexer": "ipython3",
   "version": "3.6.5"
  }
 },
 "nbformat": 4,
 "nbformat_minor": 2
}
